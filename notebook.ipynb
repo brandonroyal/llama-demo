{
 "cells": [
  {
   "cell_type": "code",
   "execution_count": 14,
   "metadata": {},
   "outputs": [
    {
     "name": "stdout",
     "output_type": "stream",
     "text": [
      "Prompt:\n",
      "<start_of_turn>user\n",
      "I'm new to coding. If you could only recommend one programming language to start with, what would it be and why?<end_of_turn>\n",
      "<start_of_turn Assistant\n",
      "If I had to recommend just one programming language to start with, I'd suggest Python. Here's why:\n",
      "\n",
      "1. **Easy to learn**: Python has a simple syntax and is relatively easy to read and write, making it a great language for beginners.\n",
      "2. **Versatile**: Python can be used for a wide range of applications, including web development, data analysis, machine learning, automation, and more.\n",
      "3. **Large community**: Python has a massive and active community, which means there are countless resources available online, including tutorials, documentation, and forums.\n",
      "4. **Cross-platform**: Python can\n"
     ]
    }
   ],
   "source": [
    "%%bash\n",
    "USER_PROMPT=\"I'm new to coding. If you could only recommend one programming language to start with, what would it be and why?\"\n",
    "\n",
    "curl -s -X POST http://localhost:8000/generate \\\n",
    "  -H \"Content-Type: application/json\" \\\n",
    "  -d @- <<EOF | jq -r '.predictions[] | sub(\".*Output:\\\\n\"; \"\")' \n",
    "{\n",
    "    \"prompt\": \"<start_of_turn>user\\n${USER_PROMPT}<end_of_turn>\\n\",\n",
    "    \"temperature\": 0.90,\n",
    "    \"top_p\": 1.0,\n",
    "    \"max_tokens\": 128\n",
    "}\n",
    "EOF"
   ]
  }
 ],
 "metadata": {
  "kernelspec": {
   "display_name": "Python 3 (ipykernel)",
   "language": "python",
   "name": "python3"
  }
 },
 "nbformat": 4,
 "nbformat_minor": 2
}
